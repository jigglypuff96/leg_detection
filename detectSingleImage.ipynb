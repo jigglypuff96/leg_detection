{
 "cells": [
  {
   "cell_type": "code",
   "execution_count": 9,
   "metadata": {},
   "outputs": [
    {
     "name": "stdout",
     "output_type": "stream",
     "text": [
      "1.4.0\n"
     ]
    }
   ],
   "source": [
    "import os\n",
    "import numpy as np\n",
    "from PIL import Image\n",
    "import torch\n",
    "import torch.nn as nn\n",
    "import torch.optim as optim\n",
    "from torch.optim import lr_scheduler\n",
    "import numpy as np\n",
    "import torchvision\n",
    "from torchvision import datasets, models, transforms\n",
    "import matplotlib.pyplot as plt\n",
    "import time\n",
    "import os\n",
    "import copy\n",
    "import math\n",
    "print(torch.__version__)\n",
    "plt.ion()   # interactive mode\n",
    "from torch.autograd import Variable\n",
    "import cv2\n",
    "from scipy import stats"
   ]
  },
  {
   "cell_type": "code",
   "execution_count": 2,
   "metadata": {},
   "outputs": [
    {
     "data": {
      "text/plain": [
       "\"\\nrootdir = './test/no/'\\nfor file in os.listdir(rootdir):\\n    im = Image.open(rootdir+file)\\n    img = transform_ori(im)\\n    inputs = Variable(img)\\n#     print (img)\\n#     print(len(img))\\n#     print(len(img[0]))\\n#     print(len(img[0][0]))\\n    break\\n\""
      ]
     },
     "execution_count": 2,
     "metadata": {},
     "output_type": "execute_result"
    }
   ],
   "source": [
    "transform_ori = transforms.Compose([transforms.RandomHorizontalFlip(),    #flipping the image horizontally\n",
    "                                    transforms.RandomResizedCrop(64),\n",
    "                                    transforms.ToTensor(), \n",
    "                                    transforms.Normalize(mean=[0.485, 0.456, 0.406], std=[0.229, 0.224, 0.225])])\n",
    "'''\n",
    "rootdir = './test/no/'\n",
    "for file in os.listdir(rootdir):\n",
    "    im = Image.open(rootdir+file)\n",
    "    img = transform_ori(im)\n",
    "    inputs = Variable(img)\n",
    "#     print (img)\n",
    "#     print(len(img))\n",
    "#     print(len(img[0]))\n",
    "#     print(len(img[0][0]))\n",
    "    break\n",
    "'''"
   ]
  },
  {
   "cell_type": "code",
   "execution_count": 3,
   "metadata": {},
   "outputs": [],
   "source": [
    "class CNN(nn.Module):\n",
    "    def __init__(self):\n",
    "        super(CNN,self).__init__()\n",
    "        # sub sampling - extract features\n",
    "        self.cnn1 = nn.Conv2d(in_channels=3, out_channels=8, kernel_size=3,stride=1, padding=1)\n",
    "        self.batchnorm1 = nn.BatchNorm2d(8)        #Batch normalization\n",
    "        self.relu = nn.ReLU()                 #RELU Activation\n",
    "        self.maxpool1 = nn.MaxPool2d(kernel_size=2)   #Maxpooling reduces the size by kernel size. 64/2 = 32\n",
    "        \n",
    "        self.cnn2 = nn.Conv2d(in_channels=8, out_channels=32, kernel_size=5, stride=1, padding=2)\n",
    "        self.batchnorm2 = nn.BatchNorm2d(32)\n",
    "        self.maxpool2 = nn.MaxPool2d(kernel_size=2)    #Size now is 32/2 = 16\n",
    "        \n",
    "        self.cnn3 = nn.Conv2d(in_channels=32, out_channels=64, kernel_size=5, stride=1, padding=2)\n",
    "        self.batchnorm3 = nn.BatchNorm2d(64)\n",
    "        self.maxpool3 = nn.MaxPool2d(kernel_size=2)    #Size now is 16/2 = 8\n",
    "        \n",
    "        # fully connected - classification\n",
    "        #Flatten the feature maps. You have 32 feature mapsfrom cnn2. Each of the feature is of size 16x16 --> 32*16*16 = 8192\n",
    "        self.fc1 = nn.Linear(in_features=4096, out_features=4000)   #Flattened image is fed into linear NN and reduced to half size\n",
    "        self.droput = nn.Dropout(p=0.5)                    #Dropout used to reduce overfitting\n",
    "        self.fc2 = nn.Linear(in_features=4000, out_features=2000)\n",
    "        self.droput = nn.Dropout(p=0.5)\n",
    "        self.fc3 = nn.Linear(in_features=2000, out_features=500)\n",
    "        self.droput = nn.Dropout(p=0.5)\n",
    "        self.fc4 = nn.Linear(in_features=500, out_features=50)\n",
    "        self.droput = nn.Dropout(p=0.5)\n",
    "        self.fc5 = nn.Linear(in_features=50, out_features=2)   \n",
    "        self.softmax = nn.Softmax(dim = 1)\n",
    "        \n",
    "    def forward(self,x):\n",
    "        out = self.cnn1(x)\n",
    "        out = self.batchnorm1(out)\n",
    "        out = self.relu(out)\n",
    "        out = self.maxpool1(out)\n",
    "        out = self.cnn2(out)\n",
    "        out = self.batchnorm2(out)\n",
    "        out = self.relu(out)\n",
    "        out = self.maxpool2(out)\n",
    "        out = self.cnn3(out)\n",
    "        out = self.batchnorm3(out)\n",
    "        out = self.relu(out)\n",
    "        out = self.maxpool3(out)\n",
    "        #Flattening is done here with .view() -> (batch_size, 32*16*16) = (100, 8192)\n",
    "        out = out.view(-1,4096)   #-1 will automatically update the batchsize as 100; 8192 flattens 32,16,16\n",
    "        #Then we forward through our fully connected layer \n",
    "        out = self.fc1(out)\n",
    "        out = self.relu(out)\n",
    "#         out = self.droput(out)\n",
    "        out = self.fc2(out)\n",
    "        out = self.relu(out)\n",
    "#         out = self.droput(out)\n",
    "        out = self.fc3(out)\n",
    "        out = self.relu(out)\n",
    "#         out = self.droput(out)\n",
    "        out = self.fc4(out)\n",
    "        out = self.relu(out)\n",
    "#         out = self.droput(out)\n",
    "        out = self.fc5(out)\n",
    "        out = self.softmax(out)\n",
    "        return out"
   ]
  },
  {
   "cell_type": "code",
   "execution_count": 4,
   "metadata": {},
   "outputs": [],
   "source": [
    "# load pre-trained model\n",
    "model = torch.load('./demo_images_95.pt')"
   ]
  },
  {
   "cell_type": "code",
   "execution_count": 5,
   "metadata": {},
   "outputs": [
    {
     "data": {
      "text/plain": [
       "\"\\nrootdir = './test/no/'\\n\\nmodel.eval()                    # Put the network into evaluation mode\\nfor file in os.listdir(rootdir):\\n    im = Image.open(rootdir+file)\\n    img = transform_ori(im)\\n    img_4d = img.unsqueeze(0)\\n    inputs = Variable(img_4d)\\n\\n    outputs = model(inputs)  \\n\\n    _, predicted = torch.max(outputs, 1)\\n    print (predicted)\\n\""
      ]
     },
     "execution_count": 5,
     "metadata": {},
     "output_type": "execute_result"
    }
   ],
   "source": [
    "'''\n",
    "rootdir = './test/no/'\n",
    "\n",
    "model.eval()                    # Put the network into evaluation mode\n",
    "for file in os.listdir(rootdir):\n",
    "    im = Image.open(rootdir+file)\n",
    "    img = transform_ori(im)\n",
    "    img_4d = img.unsqueeze(0)\n",
    "    inputs = Variable(img_4d)\n",
    "\n",
    "    outputs = model(inputs)  \n",
    "\n",
    "    _, predicted = torch.max(outputs, 1)\n",
    "    print (predicted)\n",
    "'''"
   ]
  },
  {
   "cell_type": "code",
   "execution_count": 26,
   "metadata": {},
   "outputs": [],
   "source": [
    "cap = cv2.VideoCapture('../../Downloads/short1outpy.avi')\n",
    "frame_width = int(cap.get(3))\n",
    "frame_height = int(cap.get(4))\n",
    "out = cv2.VideoWriter('short1write.avi',cv2.VideoWriter_fourcc('M','J','P','G'), 10, (frame_width,frame_height))\n",
    "font = cv2.FONT_HERSHEY_SIMPLEX \n",
    "minidict = {0:'NOTseeP',1:'seeP'}\n",
    "i = 0\n",
    "ans_list = []\n",
    "result = 0\n",
    "frame_interval = 10\n",
    "while True:\n",
    "# while(cap.isOpened()):\n",
    "    ret, frame = cap.read()\n",
    "    if ret == True: \n",
    "        left_right_image = np.split(frame, 2, axis=1)\n",
    "        left_img = left_right_image[0]\n",
    "        right_img = left_right_image[1]\n",
    "        left_img_pil = Image.fromarray(left_img)\n",
    "        right_img_pil = Image.fromarray(right_img)\n",
    "    #     print (left_img_pil)\n",
    "    #     print (type(left_img_pil))\n",
    "#         cv2.imshow('frame',frame)\n",
    "        left_img_pil2tensor = transform_ori(left_img_pil)\n",
    "        right_img_pil2tensor = transform_ori(right_img_pil)\n",
    "        left_img_4d = left_img_pil2tensor.unsqueeze(0)\n",
    "        right_img_4d = right_img_pil2tensor.unsqueeze(0)\n",
    "        left_inputs = Variable(left_img_4d)\n",
    "        right_inputs = Variable(right_img_4d)\n",
    "        left_outputs = model(left_inputs) \n",
    "        right_outputs = model(right_inputs)  \n",
    "        _, left_predicted = torch.max(left_outputs, 1)\n",
    "        _, right_predicted = torch.max(right_outputs, 1)\n",
    "#         print ([left_predicted,right_predicted])\n",
    "        left_ans = left_predicted.numpy()[0]\n",
    "        right_ans = right_predicted.numpy()[0]\n",
    "        ans_list.append(left_ans)\n",
    "        ans_list.append(right_ans)\n",
    "#         cv2.putText(frame,str(left_ans), (50, 50), font, 1, (0, 255, 255), 2, cv2.LINE_4) # left \n",
    "#         cv2.putText(frame,str(right_ans), (1500, 50), font, 1, (0, 255, 255), 2, cv2.LINE_4) # right\n",
    "\n",
    "        if i % frame_interval == frame_interval-1 and i >= frame_interval-1:\n",
    "            result = stats.mode(ans_list)[0][0]\n",
    "#             print (str(result))\n",
    "            cv2.putText(frame,minidict[result], (50, 50), font, 1, (0, 255, 255), 2, cv2.LINE_4)\n",
    "            ans_list = []\n",
    "        elif i < frame_interval-1:\n",
    "            if left_ans == right_ans:\n",
    "                cv2.putText(frame,minidict[left_ans], (50, 50), font, 1, (0, 255, 255), 2, cv2.LINE_4)\n",
    "            else:\n",
    "                cv2.putText(frame,minidict[0], (50, 50), font, 1, (0, 255, 255), 2, cv2.LINE_4)\n",
    "        else:\n",
    "            cv2.putText(frame,minidict[result], (50, 50), font, 1, (0, 255, 255), 2, cv2.LINE_4)\n",
    "        cv2.putText(frame,str(i), (1230, 50), font, 1, (0, 255, 255), 2, cv2.LINE_4)\n",
    "        out.write(frame)\n",
    "        i += 1\n",
    "    #     break\n",
    "    # if cv2.waitKey(1) & 0xFF == ord('q'):\n",
    "    #     break\n",
    "    else:\n",
    "        break\n",
    "cap.release()\n",
    "out.release()\n",
    "cv2.destroyAllWindows()"
   ]
  },
  {
   "cell_type": "code",
   "execution_count": 37,
   "metadata": {},
   "outputs": [
    {
     "name": "stdout",
     "output_type": "stream",
     "text": [
      "376\n",
      "672\n",
      "3\n"
     ]
    }
   ],
   "source": [
    "print (len(left_img))\n",
    "print (len(left_img[0]))\n",
    "print (len(left_img[0][0]))"
   ]
  },
  {
   "cell_type": "code",
   "execution_count": null,
   "metadata": {},
   "outputs": [],
   "source": []
  }
 ],
 "metadata": {
  "kernelspec": {
   "display_name": "Python 3",
   "language": "python",
   "name": "python3"
  },
  "language_info": {
   "codemirror_mode": {
    "name": "ipython",
    "version": 3
   },
   "file_extension": ".py",
   "mimetype": "text/x-python",
   "name": "python",
   "nbconvert_exporter": "python",
   "pygments_lexer": "ipython3",
   "version": "3.7.6"
  }
 },
 "nbformat": 4,
 "nbformat_minor": 4
}
